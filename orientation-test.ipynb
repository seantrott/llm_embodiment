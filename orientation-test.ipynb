{
 "cells": [
  {
   "cell_type": "code",
   "execution_count": 111,
   "id": "7ed10f18",
   "metadata": {},
   "outputs": [],
   "source": [
    "import torch\n",
    "import clip\n",
    "import seaborn as sns\n",
    "import pandas as pd\n",
    "\n",
    "from os import listdir\n",
    "from PIL import Image\n",
    "from tqdm import tqdm\n",
    "\n",
    "from src.utils import format_results, ttest"
   ]
  },
  {
   "cell_type": "code",
   "execution_count": 2,
   "id": "9c6e4c3a",
   "metadata": {},
   "outputs": [],
   "source": [
    "device = \"cuda\" if torch.cuda.is_available() else \"cpu\"\n",
    "model, preprocess = clip.load(\"ViT-B/32\", device=device)"
   ]
  },
  {
   "cell_type": "markdown",
   "id": "ea850411",
   "metadata": {},
   "source": [
    "### Orientation"
   ]
  },
  {
   "cell_type": "markdown",
   "id": "3f81c72f",
   "metadata": {},
   "source": [
    "#### Get files"
   ]
  },
  {
   "cell_type": "code",
   "execution_count": 82,
   "id": "1cd1ef7f",
   "metadata": {},
   "outputs": [
    {
     "data": {
      "text/html": [
       "<div>\n",
       "<style scoped>\n",
       "    .dataframe tbody tr th:only-of-type {\n",
       "        vertical-align: middle;\n",
       "    }\n",
       "\n",
       "    .dataframe tbody tr th {\n",
       "        vertical-align: top;\n",
       "    }\n",
       "\n",
       "    .dataframe thead th {\n",
       "        text-align: right;\n",
       "    }\n",
       "</style>\n",
       "<table border=\"1\" class=\"dataframe\">\n",
       "  <thead>\n",
       "    <tr style=\"text-align: right;\">\n",
       "      <th></th>\n",
       "      <th>sentence_a</th>\n",
       "      <th>object</th>\n",
       "      <th>sentence_b</th>\n",
       "      <th>image_a</th>\n",
       "      <th>image_b</th>\n",
       "    </tr>\n",
       "  </thead>\n",
       "  <tbody>\n",
       "    <tr>\n",
       "      <th>0</th>\n",
       "      <td>The lumberjack left his axe sticking in the to...</td>\n",
       "      <td>axe</td>\n",
       "      <td>The lumberjack left his axe sticking in the si...</td>\n",
       "      <td>axeH.jpg</td>\n",
       "      <td>axeV.jpg</td>\n",
       "    </tr>\n",
       "    <tr>\n",
       "      <th>1</th>\n",
       "      <td>Derek swung his bat as the ball approached.</td>\n",
       "      <td>bat</td>\n",
       "      <td>Derek held his bat high as the ball approached.</td>\n",
       "      <td>batH.jpg</td>\n",
       "      <td>batV.jpg</td>\n",
       "    </tr>\n",
       "    <tr>\n",
       "      <th>2</th>\n",
       "      <td>The librarian put the book back on the table.</td>\n",
       "      <td>book</td>\n",
       "      <td>The librarian put the book back on the shelf.</td>\n",
       "      <td>bookH.jpg</td>\n",
       "      <td>bookV.jpg</td>\n",
       "    </tr>\n",
       "    <tr>\n",
       "      <th>3</th>\n",
       "      <td>Jessica stuck the bottle in the wine rack, ant...</td>\n",
       "      <td>bottle</td>\n",
       "      <td>Jessica stuck the bottle in the ice, anticipat...</td>\n",
       "      <td>bottleH.jpg</td>\n",
       "      <td>bottleV.jpg</td>\n",
       "    </tr>\n",
       "    <tr>\n",
       "      <th>4</th>\n",
       "      <td>James placed the bowl into an open space in th...</td>\n",
       "      <td>bowl</td>\n",
       "      <td>James placed the bowl into an open slot in the...</td>\n",
       "      <td>bowlH.jpg</td>\n",
       "      <td>bowlV.jpg</td>\n",
       "    </tr>\n",
       "  </tbody>\n",
       "</table>\n",
       "</div>"
      ],
      "text/plain": [
       "                                          sentence_a  object  \\\n",
       "0  The lumberjack left his axe sticking in the to...     axe   \n",
       "1       Derek swung his bat as the ball approached.      bat   \n",
       "2     The librarian put the book back on the table.     book   \n",
       "3  Jessica stuck the bottle in the wine rack, ant...  bottle   \n",
       "4  James placed the bowl into an open space in th...    bowl   \n",
       "\n",
       "                                          sentence_b      image_a      image_b  \n",
       "0  The lumberjack left his axe sticking in the si...     axeH.jpg     axeV.jpg  \n",
       "1   Derek held his bat high as the ball approached.      batH.jpg     batV.jpg  \n",
       "2      The librarian put the book back on the shelf.    bookH.jpg    bookV.jpg  \n",
       "3  Jessica stuck the bottle in the ice, anticipat...  bottleH.jpg  bottleV.jpg  \n",
       "4  James placed the bowl into an open slot in the...    bowlH.jpg    bowlV.jpg  "
      ]
     },
     "execution_count": 82,
     "metadata": {},
     "output_type": "execute_result"
    }
   ],
   "source": [
    "df_sentences = pd.read_csv(\"data/muraki2021/items.csv\")\n",
    "df_sentences.head(5)"
   ]
  },
  {
   "cell_type": "markdown",
   "id": "65b3f9cb",
   "metadata": {},
   "source": [
    "#### Run script"
   ]
  },
  {
   "cell_type": "code",
   "execution_count": 106,
   "id": "2fa03ab4",
   "metadata": {},
   "outputs": [],
   "source": [
    "def format_sentences(obj, a_orientation, b_orientation):\n",
    "    return ['It is a horizontal {x}'.format(x = obj),\n",
    "           'It is a vertical {x}'.format(x=obj)]"
   ]
  },
  {
   "cell_type": "code",
   "execution_count": 107,
   "id": "12750bc8",
   "metadata": {},
   "outputs": [
    {
     "name": "stdout",
     "output_type": "stream",
     "text": [
      "['It is a horizontal axe', 'It is a vertical axe']\n",
      "['It is a horizontal bat', 'It is a vertical bat']\n",
      "['It is a horizontal book', 'It is a vertical book']\n",
      "['It is a horizontal bottle', 'It is a vertical bottle']\n",
      "['It is a horizontal bowl', 'It is a vertical bowl']\n",
      "['It is a horizontal broom', 'It is a vertical broom']\n",
      "['It is a horizontal brush', 'It is a vertical brush']\n",
      "['It is a horizontal crayon', 'It is a vertical crayon']\n",
      "['It is a horizontal decoration', 'It is a vertical decoration']\n",
      "['It is a horizontal flashlight', 'It is a vertical flashlight']\n",
      "['It is a horizontal frxtinguisher', 'It is a vertical frxtinguisher']\n",
      "['It is a horizontal glass', 'It is a vertical glass']\n",
      "['It is a horizontal guitar', 'It is a vertical guitar']\n",
      "['It is a horizontal gun', 'It is a vertical gun']\n",
      "['It is a horizontal iron', 'It is a vertical iron']\n",
      "['It is a horizontal key', 'It is a vertical key']\n",
      "['It is a horizontal nail', 'It is a vertical nail']\n",
      "['It is a horizontal pen', 'It is a vertical pen']\n",
      "['It is a horizontal pencil', 'It is a vertical pencil']\n",
      "['It is a horizontal plate', 'It is a vertical plate']\n",
      "['It is a horizontal salt', 'It is a vertical salt']\n",
      "['It is a horizontal scissors', 'It is a vertical scissors']\n",
      "['It is a horizontal screw', 'It is a vertical screw']\n",
      "['It is a horizontal wheel', 'It is a vertical wheel']\n"
     ]
    }
   ],
   "source": [
    "all_results = []\n",
    "for index, row in df_sentences.iterrows():\n",
    "    \n",
    "    a = row['image_a']\n",
    "    b = row['image_b']\n",
    "    obj = row['object']\n",
    "    \n",
    "    a_orientation = a.split(\".\")[0][-1]\n",
    "    b_orientation = b.split(\".\")[0][-1]\n",
    "    \n",
    "    sentences = format_sentences(obj, a_orientation, b_orientation)\n",
    "    text = clip.tokenize(sentences).to(device)\n",
    "    \n",
    "    print(sentences)\n",
    "    \n",
    "    image_paths = [\"data/muraki2021/images/{path}\".format(path=a),\n",
    "                  \"data/muraki2021/images/{path}\".format(path=b)]\n",
    "    \n",
    "    image_inputs = [preprocess(Image.open(path)).unsqueeze(0).to(device) for path in image_paths]\n",
    "                                                        \n",
    "    with torch.no_grad():\n",
    "        text_features = model.encode_text(text)\n",
    "        image_features = [model.encode_image(img_input) for img_input in image_inputs]\n",
    "        # Calculate the similarity\n",
    "        probs = torch.softmax(\n",
    "            text_features @ torch.stack(image_features).squeeze().T, dim=-1)\n",
    "        \n",
    "    \n",
    "    all_results.append({\n",
    "        'match_a': probs[0][0].item(),\n",
    "        'mismatch_a': probs[0][1].item(),\n",
    "        'match_b': probs[1][1].item(),\n",
    "        'mismatch_b': probs[1][0].item(),\n",
    "        'object': obj\n",
    "    })"
   ]
  },
  {
   "cell_type": "code",
   "execution_count": 108,
   "id": "9f844a6c",
   "metadata": {},
   "outputs": [],
   "source": [
    "df_results = pd.DataFrame(all_results)"
   ]
  },
  {
   "cell_type": "code",
   "execution_count": 112,
   "id": "f2ea583e",
   "metadata": {},
   "outputs": [
    {
     "data": {
      "text/html": [
       "<div>\n",
       "<style scoped>\n",
       "    .dataframe tbody tr th:only-of-type {\n",
       "        vertical-align: middle;\n",
       "    }\n",
       "\n",
       "    .dataframe tbody tr th {\n",
       "        vertical-align: top;\n",
       "    }\n",
       "\n",
       "    .dataframe thead th {\n",
       "        text-align: right;\n",
       "    }\n",
       "</style>\n",
       "<table border=\"1\" class=\"dataframe\">\n",
       "  <thead>\n",
       "    <tr style=\"text-align: right;\">\n",
       "      <th></th>\n",
       "      <th>sentence</th>\n",
       "      <th>match</th>\n",
       "      <th>probability</th>\n",
       "      <th>model</th>\n",
       "      <th>dataset</th>\n",
       "    </tr>\n",
       "  </thead>\n",
       "  <tbody>\n",
       "    <tr>\n",
       "      <th>0</th>\n",
       "      <td>a</td>\n",
       "      <td>match</td>\n",
       "      <td>0.114066</td>\n",
       "      <td>muraki2021</td>\n",
       "      <td>muraki2021</td>\n",
       "    </tr>\n",
       "    <tr>\n",
       "      <th>1</th>\n",
       "      <td>a</td>\n",
       "      <td>match</td>\n",
       "      <td>0.772773</td>\n",
       "      <td>muraki2021</td>\n",
       "      <td>muraki2021</td>\n",
       "    </tr>\n",
       "    <tr>\n",
       "      <th>2</th>\n",
       "      <td>a</td>\n",
       "      <td>match</td>\n",
       "      <td>0.220319</td>\n",
       "      <td>muraki2021</td>\n",
       "      <td>muraki2021</td>\n",
       "    </tr>\n",
       "    <tr>\n",
       "      <th>3</th>\n",
       "      <td>a</td>\n",
       "      <td>match</td>\n",
       "      <td>0.153105</td>\n",
       "      <td>muraki2021</td>\n",
       "      <td>muraki2021</td>\n",
       "    </tr>\n",
       "    <tr>\n",
       "      <th>4</th>\n",
       "      <td>a</td>\n",
       "      <td>match</td>\n",
       "      <td>0.997033</td>\n",
       "      <td>muraki2021</td>\n",
       "      <td>muraki2021</td>\n",
       "    </tr>\n",
       "  </tbody>\n",
       "</table>\n",
       "</div>"
      ],
      "text/plain": [
       "  sentence  match  probability       model     dataset\n",
       "0        a  match     0.114066  muraki2021  muraki2021\n",
       "1        a  match     0.772773  muraki2021  muraki2021\n",
       "2        a  match     0.220319  muraki2021  muraki2021\n",
       "3        a  match     0.153105  muraki2021  muraki2021\n",
       "4        a  match     0.997033  muraki2021  muraki2021"
      ]
     },
     "execution_count": 112,
     "metadata": {},
     "output_type": "execute_result"
    }
   ],
   "source": [
    "df_new = format_results(df_results, \"muraki2021\", \"muraki2021\")\n",
    "df_new.head(5)"
   ]
  },
  {
   "cell_type": "code",
   "execution_count": 113,
   "id": "bf38e132",
   "metadata": {},
   "outputs": [
    {
     "data": {
      "text/plain": [
       "<AxesSubplot:xlabel='match', ylabel='probability'>"
      ]
     },
     "execution_count": 113,
     "metadata": {},
     "output_type": "execute_result"
    },
    {
     "data": {
      "image/png": "[encoded data removed]",
      "text/plain": [
       "<Figure size 432x288 with 1 Axes>"
      ]
     },
     "metadata": {
      "needs_background": "light"
     },
     "output_type": "display_data"
    }
   ],
   "source": [
    "sns.barplot(data = df_new, x = \"match\", y = \"probability\", hue = \"sentence\")"
   ]
  },
  {
   "cell_type": "code",
   "execution_count": 115,
   "id": "ebbcdcd1",
   "metadata": {},
   "outputs": [
    {
     "data": {
      "text/plain": [
       "(4.099205685788463, 8.797531945651991e-05)"
      ]
     },
     "execution_count": 115,
     "metadata": {},
     "output_type": "execute_result"
    }
   ],
   "source": [
    "ttest(df_new)"
   ]
  },
  {
   "cell_type": "markdown",
   "id": "66bf1f5c",
   "metadata": {},
   "source": [
    "### Color"
   ]
  },
  {
   "cell_type": "markdown",
   "id": "b4dc492c",
   "metadata": {},
   "source": [
    "#### Get files"
   ]
  },
  {
   "cell_type": "code",
   "execution_count": 116,
   "id": "c5e8164f",
   "metadata": {},
   "outputs": [
    {
     "data": {
      "text/html": [
       "<div>\n",
       "<style scoped>\n",
       "    .dataframe tbody tr th:only-of-type {\n",
       "        vertical-align: middle;\n",
       "    }\n",
       "\n",
       "    .dataframe tbody tr th {\n",
       "        vertical-align: top;\n",
       "    }\n",
       "\n",
       "    .dataframe thead th {\n",
       "        text-align: right;\n",
       "    }\n",
       "</style>\n",
       "<table border=\"1\" class=\"dataframe\">\n",
       "  <thead>\n",
       "    <tr style=\"text-align: right;\">\n",
       "      <th></th>\n",
       "      <th>item_id</th>\n",
       "      <th>object</th>\n",
       "      <th>sentence_a</th>\n",
       "      <th>sentence_b</th>\n",
       "      <th>image_a</th>\n",
       "      <th>image_b</th>\n",
       "    </tr>\n",
       "  </thead>\n",
       "  <tbody>\n",
       "    <tr>\n",
       "      <th>0</th>\n",
       "      <td>1</td>\n",
       "      <td>steak</td>\n",
       "      <td>John looked at the steak on his plate</td>\n",
       "      <td>John looked at the steak in the butcher’s window</td>\n",
       "      <td>steak brown.jpg</td>\n",
       "      <td>steak red.jpg</td>\n",
       "    </tr>\n",
       "    <tr>\n",
       "      <th>1</th>\n",
       "      <td>2</td>\n",
       "      <td>traffic light</td>\n",
       "      <td>The driving instructor told Bob to stop at the...</td>\n",
       "      <td>The driving instructor told Bob to continue at...</td>\n",
       "      <td>traffic light red.jpg</td>\n",
       "      <td>traffic light green.jpg</td>\n",
       "    </tr>\n",
       "  </tbody>\n",
       "</table>\n",
       "</div>"
      ],
      "text/plain": [
       "   item_id         object                                         sentence_a  \\\n",
       "0        1          steak              John looked at the steak on his plate   \n",
       "1        2  traffic light  The driving instructor told Bob to stop at the...   \n",
       "\n",
       "                                          sentence_b                image_a  \\\n",
       "0   John looked at the steak in the butcher’s window        steak brown.jpg   \n",
       "1  The driving instructor told Bob to continue at...  traffic light red.jpg   \n",
       "\n",
       "                   image_b  \n",
       "0            steak red.jpg  \n",
       "1  traffic light green.jpg  "
      ]
     },
     "execution_count": 116,
     "metadata": {},
     "output_type": "execute_result"
    }
   ],
   "source": [
    "df_sentences = pd.read_csv(\"data/connell2007/items.csv\")\n",
    "df_sentences.head(2)"
   ]
  },
  {
   "cell_type": "markdown",
   "id": "a71dac3a",
   "metadata": {},
   "source": [
    "#### Run script"
   ]
  },
  {
   "cell_type": "code",
   "execution_count": 117,
   "id": "cfb29aa6",
   "metadata": {},
   "outputs": [],
   "source": [
    "def format_sentences(obj, color1, color2):\n",
    "    return ['It is a {color} {x}'.format(color = color1, x = obj),\n",
    "           'It is a {color} {x}'.format(color = color2, x=obj)]"
   ]
  },
  {
   "cell_type": "code",
   "execution_count": 118,
   "id": "94e7c627",
   "metadata": {},
   "outputs": [],
   "source": [
    "all_results = []\n",
    "for index, row in df_sentences.iterrows():\n",
    "    \n",
    "    a = row['image_a']\n",
    "    b = row['image_b']\n",
    "    obj = row['object']\n",
    "    \n",
    "    a_color = a.split(\".\")[0].split()[-1]\n",
    "    b_color = b.split(\".\")[0].split()[-1]\n",
    "    \n",
    "    sentences = format_sentences(obj, a_color, b_color)\n",
    "    text = clip.tokenize(sentences).to(device)\n",
    "    \n",
    "    image_paths = [\"data/connell2007/images/{path}\".format(path=a),\n",
    "                  \"data/connell2007/images/{path}\".format(path=b)]\n",
    "    \n",
    "    image_inputs = [preprocess(Image.open(path)).unsqueeze(0).to(device) for path in image_paths]\n",
    "                                                        \n",
    "    with torch.no_grad():\n",
    "        text_features = model.encode_text(text)\n",
    "        image_features = [model.encode_image(img_input) for img_input in image_inputs]\n",
    "        # Calculate the similarity\n",
    "        probs = torch.softmax(\n",
    "            text_features @ torch.stack(image_features).squeeze().T, dim=-1)\n",
    "        \n",
    "    \n",
    "    all_results.append({\n",
    "        'match_a': probs[0][0].item(),\n",
    "        'mismatch_a': probs[0][1].item(),\n",
    "        'match_b': probs[1][1].item(),\n",
    "        'mismatch_b': probs[1][0].item(),\n",
    "        'object': obj\n",
    "    })"
   ]
  },
  {
   "cell_type": "code",
   "execution_count": 119,
   "id": "ad452dea",
   "metadata": {},
   "outputs": [],
   "source": [
    "df_results = pd.DataFrame(all_results)"
   ]
  },
  {
   "cell_type": "code",
   "execution_count": 120,
   "id": "40d2c77d",
   "metadata": {},
   "outputs": [
    {
     "data": {
      "text/html": [
       "<div>\n",
       "<style scoped>\n",
       "    .dataframe tbody tr th:only-of-type {\n",
       "        vertical-align: middle;\n",
       "    }\n",
       "\n",
       "    .dataframe tbody tr th {\n",
       "        vertical-align: top;\n",
       "    }\n",
       "\n",
       "    .dataframe thead th {\n",
       "        text-align: right;\n",
       "    }\n",
       "</style>\n",
       "<table border=\"1\" class=\"dataframe\">\n",
       "  <thead>\n",
       "    <tr style=\"text-align: right;\">\n",
       "      <th></th>\n",
       "      <th>match_a</th>\n",
       "      <th>mismatch_a</th>\n",
       "      <th>match_b</th>\n",
       "      <th>mismatch_b</th>\n",
       "      <th>object</th>\n",
       "    </tr>\n",
       "  </thead>\n",
       "  <tbody>\n",
       "    <tr>\n",
       "      <th>0</th>\n",
       "      <td>0.932662</td>\n",
       "      <td>0.067338</td>\n",
       "      <td>0.984955</td>\n",
       "      <td>0.015045</td>\n",
       "      <td>steak</td>\n",
       "    </tr>\n",
       "    <tr>\n",
       "      <th>1</th>\n",
       "      <td>0.927666</td>\n",
       "      <td>0.072334</td>\n",
       "      <td>0.967150</td>\n",
       "      <td>0.032850</td>\n",
       "      <td>traffic light</td>\n",
       "    </tr>\n",
       "    <tr>\n",
       "      <th>2</th>\n",
       "      <td>0.991906</td>\n",
       "      <td>0.008094</td>\n",
       "      <td>0.932519</td>\n",
       "      <td>0.067481</td>\n",
       "      <td>tomato</td>\n",
       "    </tr>\n",
       "    <tr>\n",
       "      <th>3</th>\n",
       "      <td>0.996184</td>\n",
       "      <td>0.003816</td>\n",
       "      <td>0.751411</td>\n",
       "      <td>0.248589</td>\n",
       "      <td>tree</td>\n",
       "    </tr>\n",
       "    <tr>\n",
       "      <th>4</th>\n",
       "      <td>0.938749</td>\n",
       "      <td>0.061251</td>\n",
       "      <td>0.967931</td>\n",
       "      <td>0.032069</td>\n",
       "      <td>hair</td>\n",
       "    </tr>\n",
       "    <tr>\n",
       "      <th>5</th>\n",
       "      <td>0.942111</td>\n",
       "      <td>0.057889</td>\n",
       "      <td>0.987045</td>\n",
       "      <td>0.012955</td>\n",
       "      <td>bear</td>\n",
       "    </tr>\n",
       "    <tr>\n",
       "      <th>6</th>\n",
       "      <td>0.994818</td>\n",
       "      <td>0.005182</td>\n",
       "      <td>0.988242</td>\n",
       "      <td>0.011758</td>\n",
       "      <td>leaf</td>\n",
       "    </tr>\n",
       "    <tr>\n",
       "      <th>7</th>\n",
       "      <td>0.970506</td>\n",
       "      <td>0.029494</td>\n",
       "      <td>0.837469</td>\n",
       "      <td>0.162531</td>\n",
       "      <td>lamb</td>\n",
       "    </tr>\n",
       "    <tr>\n",
       "      <th>8</th>\n",
       "      <td>0.904417</td>\n",
       "      <td>0.095583</td>\n",
       "      <td>0.953011</td>\n",
       "      <td>0.046989</td>\n",
       "      <td>bananas</td>\n",
       "    </tr>\n",
       "    <tr>\n",
       "      <th>9</th>\n",
       "      <td>0.343515</td>\n",
       "      <td>0.656485</td>\n",
       "      <td>0.872099</td>\n",
       "      <td>0.127901</td>\n",
       "      <td>coffee</td>\n",
       "    </tr>\n",
       "    <tr>\n",
       "      <th>10</th>\n",
       "      <td>0.974485</td>\n",
       "      <td>0.025515</td>\n",
       "      <td>0.792790</td>\n",
       "      <td>0.207210</td>\n",
       "      <td>sky</td>\n",
       "    </tr>\n",
       "    <tr>\n",
       "      <th>11</th>\n",
       "      <td>0.996720</td>\n",
       "      <td>0.003279</td>\n",
       "      <td>0.611483</td>\n",
       "      <td>0.388517</td>\n",
       "      <td>chameleon</td>\n",
       "    </tr>\n",
       "  </tbody>\n",
       "</table>\n",
       "</div>"
      ],
      "text/plain": [
       "     match_a  mismatch_a   match_b  mismatch_b         object\n",
       "0   0.932662    0.067338  0.984955    0.015045          steak\n",
       "1   0.927666    0.072334  0.967150    0.032850  traffic light\n",
       "2   0.991906    0.008094  0.932519    0.067481         tomato\n",
       "3   0.996184    0.003816  0.751411    0.248589           tree\n",
       "4   0.938749    0.061251  0.967931    0.032069           hair\n",
       "5   0.942111    0.057889  0.987045    0.012955           bear\n",
       "6   0.994818    0.005182  0.988242    0.011758           leaf\n",
       "7   0.970506    0.029494  0.837469    0.162531           lamb\n",
       "8   0.904417    0.095583  0.953011    0.046989        bananas\n",
       "9   0.343515    0.656485  0.872099    0.127901         coffee\n",
       "10  0.974485    0.025515  0.792790    0.207210            sky\n",
       "11  0.996720    0.003279  0.611483    0.388517      chameleon"
      ]
     },
     "execution_count": 120,
     "metadata": {},
     "output_type": "execute_result"
    }
   ],
   "source": [
    "df_results"
   ]
  },
  {
   "cell_type": "code",
   "execution_count": 121,
   "id": "eecba611",
   "metadata": {},
   "outputs": [
    {
     "data": {
      "text/html": [
       "<div>\n",
       "<style scoped>\n",
       "    .dataframe tbody tr th:only-of-type {\n",
       "        vertical-align: middle;\n",
       "    }\n",
       "\n",
       "    .dataframe tbody tr th {\n",
       "        vertical-align: top;\n",
       "    }\n",
       "\n",
       "    .dataframe thead th {\n",
       "        text-align: right;\n",
       "    }\n",
       "</style>\n",
       "<table border=\"1\" class=\"dataframe\">\n",
       "  <thead>\n",
       "    <tr style=\"text-align: right;\">\n",
       "      <th></th>\n",
       "      <th>sentence</th>\n",
       "      <th>match</th>\n",
       "      <th>probability</th>\n",
       "      <th>model</th>\n",
       "      <th>dataset</th>\n",
       "    </tr>\n",
       "  </thead>\n",
       "  <tbody>\n",
       "    <tr>\n",
       "      <th>0</th>\n",
       "      <td>a</td>\n",
       "      <td>match</td>\n",
       "      <td>0.932662</td>\n",
       "      <td>connell2007</td>\n",
       "      <td>connell2007</td>\n",
       "    </tr>\n",
       "    <tr>\n",
       "      <th>1</th>\n",
       "      <td>a</td>\n",
       "      <td>match</td>\n",
       "      <td>0.927666</td>\n",
       "      <td>connell2007</td>\n",
       "      <td>connell2007</td>\n",
       "    </tr>\n",
       "    <tr>\n",
       "      <th>2</th>\n",
       "      <td>a</td>\n",
       "      <td>match</td>\n",
       "      <td>0.991906</td>\n",
       "      <td>connell2007</td>\n",
       "      <td>connell2007</td>\n",
       "    </tr>\n",
       "    <tr>\n",
       "      <th>3</th>\n",
       "      <td>a</td>\n",
       "      <td>match</td>\n",
       "      <td>0.996184</td>\n",
       "      <td>connell2007</td>\n",
       "      <td>connell2007</td>\n",
       "    </tr>\n",
       "    <tr>\n",
       "      <th>4</th>\n",
       "      <td>a</td>\n",
       "      <td>match</td>\n",
       "      <td>0.938749</td>\n",
       "      <td>connell2007</td>\n",
       "      <td>connell2007</td>\n",
       "    </tr>\n",
       "  </tbody>\n",
       "</table>\n",
       "</div>"
      ],
      "text/plain": [
       "  sentence  match  probability        model      dataset\n",
       "0        a  match     0.932662  connell2007  connell2007\n",
       "1        a  match     0.927666  connell2007  connell2007\n",
       "2        a  match     0.991906  connell2007  connell2007\n",
       "3        a  match     0.996184  connell2007  connell2007\n",
       "4        a  match     0.938749  connell2007  connell2007"
      ]
     },
     "execution_count": 121,
     "metadata": {},
     "output_type": "execute_result"
    }
   ],
   "source": [
    "df_new = format_results(df_results, \"connell2007\", \"connell2007\")\n",
    "df_new.head(5)"
   ]
  },
  {
   "cell_type": "code",
   "execution_count": 122,
   "id": "ace1fd11",
   "metadata": {},
   "outputs": [
    {
     "data": {
      "text/plain": [
       "<AxesSubplot:xlabel='match', ylabel='probability'>"
      ]
     },
     "execution_count": 122,
     "metadata": {},
     "output_type": "execute_result"
    },
    {
     "data": {
      "image/png": "[encoded data removed]",
      "text/plain": [
       "<Figure size 432x288 with 1 Axes>"
      ]
     },
     "metadata": {
      "needs_background": "light"
     },
     "output_type": "display_data"
    }
   ],
   "source": [
    "sns.barplot(data = df_new, x = \"match\", y = \"probability\", hue = \"sentence\")"
   ]
  },
  {
   "cell_type": "code",
   "execution_count": 123,
   "id": "d30996c1",
   "metadata": {},
   "outputs": [
    {
     "data": {
      "text/plain": [
       "(18.382427511604934, 7.957013672649013e-23)"
      ]
     },
     "execution_count": 123,
     "metadata": {},
     "output_type": "execute_result"
    }
   ],
   "source": [
    "ttest(df_new)"
   ]
  },
  {
   "cell_type": "code",
   "execution_count": null,
   "id": "db6bdfc3",
   "metadata": {},
   "outputs": [],
   "source": []
  }
 ],
 "metadata": {
  "kernelspec": {
   "display_name": "Python 3 (ipykernel)",
   "language": "python",
   "name": "python3"
  },
  "language_info": {
   "codemirror_mode": {
    "name": "ipython",
    "version": 3
   },
   "file_extension": ".py",
   "mimetype": "text/x-python",
   "name": "python",
   "nbconvert_exporter": "python",
   "pygments_lexer": "ipython3",
   "version": "3.9.12"
  }
 },
 "nbformat": 4,
 "nbformat_minor": 5
}
